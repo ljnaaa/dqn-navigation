{
 "metadata": {
  "language_info": {
   "codemirror_mode": {
    "name": "ipython",
    "version": 3
   },
   "file_extension": ".py",
   "mimetype": "text/x-python",
   "name": "python",
   "nbconvert_exporter": "python",
   "pygments_lexer": "ipython3",
   "version": "3.6.9-final"
  },
  "orig_nbformat": 2,
  "kernelspec": {
   "name": "python36964bit40d73d4f2e70422fa9f3465cc382e75e",
   "display_name": "Python 3.6.9 64-bit",
   "language": "python"
  }
 },
 "nbformat": 4,
 "nbformat_minor": 2,
 "cells": [
  {
   "cell_type": "code",
   "execution_count": 3,
   "metadata": {},
   "outputs": [],
   "source": [
    "import cv2\n",
    "origin = cv2.imread(\"1AI2020.png\")"
   ]
  },
  {
   "cell_type": "code",
   "execution_count": 22,
   "metadata": {},
   "outputs": [
    {
     "output_type": "stream",
     "name": "stdout",
     "text": [
      "[[ 6.123234e-17  1.000000e+00  0.000000e+00]\n [-1.000000e+00  6.123234e-17  4.890000e+02]]\n"
     ]
    }
   ],
   "source": [
    "(h,w) = origin.shape[:2]\n",
    "M = cv2.getRotationMatrix2D((w//2,h//2), 90, 1.0) #12\n",
    "M[0,-1] = 0\n",
    "M[1,-1] = 489\n",
    "print(M)\n",
    "rotated = cv2.warpAffine(origin, M, (h, w)) #13"
   ]
  },
  {
   "cell_type": "code",
   "execution_count": 23,
   "metadata": {},
   "outputs": [
    {
     "output_type": "execute_result",
     "data": {
      "text/plain": [
       "True"
      ]
     },
     "metadata": {},
     "execution_count": 23
    }
   ],
   "source": [
    "cv2.imwrite(\"rotate.png\",rotated)"
   ]
  },
  {
   "cell_type": "code",
   "execution_count": null,
   "metadata": {},
   "outputs": [],
   "source": []
  }
 ]
}